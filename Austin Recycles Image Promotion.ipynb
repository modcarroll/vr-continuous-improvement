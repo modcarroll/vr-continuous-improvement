{
    "cells": [
        {
            "cell_type": "markdown",
            "metadata": {},
            "source": "## Visual Recognition Image Promotion"
        },
        {
            "cell_type": "code",
            "execution_count": 1,
            "metadata": {},
            "outputs": [
                {
                    "name": "stdout",
                    "output_type": "stream",
                    "text": "Waiting for a Spark session to start...\nSpark Initialization Done! ApplicationId = app-20200922183055-0001\nKERNEL_ID = 50b24a17-8497-4fb2-826b-4199782ca701\n"
                }
            ],
            "source": "# The code was removed by Watson Studio for sharing."
        },
        {
            "cell_type": "code",
            "execution_count": 2,
            "metadata": {},
            "outputs": [
                {
                    "name": "stdout",
                    "output_type": "stream",
                    "text": "Collecting ibmos2spark\n  Using cached https://files.pythonhosted.org/packages/c6/81/1edb24382edef1ca636e87972b2da286b8271a586c728a21f916d3cd76cd/ibmos2spark-1.0.1-py2.py3-none-any.whl\nInstalling collected packages: ibmos2spark\nSuccessfully installed ibmos2spark-1.0.1\n\u001b[33mTarget directory /home/spark/shared/user-libs/python3.6/ibmos2spark-1.0.1.dist-info already exists. Specify --upgrade to force replacement.\u001b[0m\n\u001b[33mTarget directory /home/spark/shared/user-libs/python3.6/ibmos2spark already exists. Specify --upgrade to force replacement.\u001b[0m\n"
                }
            ],
            "source": "import ibm_boto3\nfrom ibm_botocore.client import Config, ClientError\nfrom IPython.display import Image\nimport mimetypes\n!pip install ibmos2spark\nimport ibmos2spark"
        },
        {
            "cell_type": "code",
            "execution_count": 3,
            "metadata": {},
            "outputs": [],
            "source": "COS_AUTH_ENDPOINT = \"https://iam.bluemix.net/oidc/token\"\nCOS_ENDPOINT = \"https://s3.dal.us.cloud-object-storage.appdomain.cloud\"\nCOS_API_KEY_ID = \"myCOSapikey\"\nCOS_RESOURCE_CRN = \"crn:v1:bluemix:public:cloud-object-storage:global:a/someotherstufffrommycredentialspage\""
        },
        {
            "cell_type": "code",
            "execution_count": 4,
            "metadata": {},
            "outputs": [],
            "source": "# The code was removed by Watson Studio for sharing."
        },
        {
            "cell_type": "code",
            "execution_count": 7,
            "metadata": {},
            "outputs": [],
            "source": "try:\n    # Create resource\n    cos = ibm_boto3.resource(\"s3\",\n        ibm_api_key_id=COS_API_KEY_ID,\n        ibm_service_instance_id=COS_RESOURCE_CRN,\n        ibm_auth_endpoint=COS_AUTH_ENDPOINT,\n        config=Config(signature_version=\"oauth\"),\n        endpoint_url=COS_ENDPOINT\n    )\nexcept Exception as e:\n        print(\"Unable to initialize: {0}\".format(e))\n        \ndef get_bucket_images(bucket_name):\n#     print(\"Retrieving bucket contents from: {0}\".format(bucket_name))\n    try:\n        files = cos.Bucket(bucket_name).objects.all()\n        return files\n    except ClientError as be:\n        print(\"CLIENT ERROR: {0}\\n\".format(be))\n    except Exception as e:\n        print(\"Unable to retrieve bucket contents: {0}\".format(e))\n        \n# Image(project.get_file('Screen Shot 2020-09-21 at 5.54.43 PM.png' ).read())"
        },
        {
            "cell_type": "code",
            "execution_count": 11,
            "metadata": {},
            "outputs": [],
            "source": "new_images = get_bucket_images(\"austinrecyclesimprove-donotdelete-pr-an8sxxnegjtl6n\")"
        },
        {
            "cell_type": "code",
            "execution_count": 14,
            "metadata": {},
            "outputs": [
                {
                    "name": "stdout",
                    "output_type": "stream",
                    "text": "Image found!\nScreen Shot 2020-09-21 at 5.54.43 PM.png\nImage found!\nScreen Shot 2020-09-21 at 5.54.49 PM.png\nImage found!\nScreen Shot 2020-09-21 at 5.54.56 PM.png\n"
                }
            ],
            "source": "for image in new_images:\n    fileType = mimetypes.guess_type(image.key)[0]\n    imageExt = ['image/jpg', 'image/jpeg', 'image/png', 'image/gif']\n    if fileType in imageExt:\n        print(\"Image found!\")\n        print(image.key)\n        Image(project.get_file(image.key).read())"
        },
        {
            "cell_type": "code",
            "execution_count": null,
            "metadata": {},
            "outputs": [],
            "source": ""
        }
    ],
    "metadata": {
        "kernelspec": {
            "display_name": "Python 3.6 with Spark",
            "language": "python3",
            "name": "python36"
        },
        "language_info": {
            "codemirror_mode": {
                "name": "ipython",
                "version": 3
            },
            "file_extension": ".py",
            "mimetype": "text/x-python",
            "name": "python",
            "nbconvert_exporter": "python",
            "pygments_lexer": "ipython3",
            "version": "3.6.10"
        }
    },
    "nbformat": 4,
    "nbformat_minor": 1
}